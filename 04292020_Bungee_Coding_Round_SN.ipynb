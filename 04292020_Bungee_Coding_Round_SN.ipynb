{
 "cells": [
  {
   "cell_type": "markdown",
   "metadata": {},
   "source": [
    "### Importing Liabrary"
   ]
  },
  {
   "cell_type": "code",
   "execution_count": 1,
   "metadata": {},
   "outputs": [],
   "source": [
    "import pandas as pd\n",
    "import numpy as np\n",
    "import os"
   ]
  },
  {
   "cell_type": "markdown",
   "metadata": {},
   "source": [
    "### Setting Directory"
   ]
  },
  {
   "cell_type": "code",
   "execution_count": 2,
   "metadata": {},
   "outputs": [],
   "source": [
    "os.chdir('C:\\\\Users\\\\falam\\\\Desktop\\\\intership-test-master\\\\intership-test-master\\\\input')"
   ]
  },
  {
   "cell_type": "markdown",
   "metadata": {},
   "source": [
    "### Importing Data"
   ]
  },
  {
   "cell_type": "code",
   "execution_count": 3,
   "metadata": {},
   "outputs": [],
   "source": [
    "data = pd.read_csv(\"main.csv\")"
   ]
  },
  {
   "cell_type": "markdown",
   "metadata": {},
   "source": [
    "### Viewing Columns name"
   ]
  },
  {
   "cell_type": "code",
   "execution_count": 4,
   "metadata": {},
   "outputs": [
    {
     "data": {
      "text/plain": [
       "Index(['SKU', 'DESCRIPTION', 'YEAR', 'CAPACITY', 'URL', 'PRICE',\n",
       "       'SELLER_INFORMATION', 'OFFER_DESCRIPTION', 'COUNTRY'],\n",
       "      dtype='object')"
      ]
     },
     "execution_count": 4,
     "metadata": {},
     "output_type": "execute_result"
    }
   ],
   "source": [
    "data.columns"
   ]
  },
  {
   "cell_type": "markdown",
   "metadata": {},
   "source": [
    "### Checking Shape of Data"
   ]
  },
  {
   "cell_type": "code",
   "execution_count": 5,
   "metadata": {},
   "outputs": [
    {
     "data": {
      "text/plain": [
       "(11196, 9)"
      ]
     },
     "execution_count": 5,
     "metadata": {},
     "output_type": "execute_result"
    }
   ],
   "source": [
    "data.shape"
   ]
  },
  {
   "cell_type": "markdown",
   "metadata": {},
   "source": [
    "### Checking value counts of country"
   ]
  },
  {
   "cell_type": "code",
   "execution_count": 6,
   "metadata": {
    "scrolled": true
   },
   "outputs": [
    {
     "data": {
      "text/plain": [
       "Hong Kong               2464\n",
       "UK                      2108\n",
       "France                  1537\n",
       "USA (CA)                1490\n",
       "USA (NY)                 981\n",
       "Switzerland              917\n",
       "Germany                  261\n",
       "Singapore                204\n",
       "Netherlands              140\n",
       "Italy                    102\n",
       "USA (WA)                  98\n",
       "Belgium                   93\n",
       "USA (NJ)                  88\n",
       "USA (IL)                  74\n",
       "USA (FL)                  71\n",
       "Austria                   66\n",
       "New Zealand               62\n",
       "Spain                     57\n",
       "USA (MA)                  42\n",
       "Canada                    40\n",
       "USA (CT)                  38\n",
       "USA (TX)                  30\n",
       "USA (DC)                  30\n",
       "Japan                     29\n",
       "Portugal                  24\n",
       "United Arab Emirates      23\n",
       "Australia                 18\n",
       "USA (NV)                  16\n",
       "USA (IN)                  13\n",
       "USA (RI)                  13\n",
       "Taiwan                    10\n",
       "USA (CO)                   8\n",
       "USA (OR)                   8\n",
       "USA (TN)                   7\n",
       "Luxembourg                 7\n",
       "USA (VA)                   6\n",
       "USA (OH)                   5\n",
       "USA (MI)                   5\n",
       "USA (MO)                   4\n",
       "China                      4\n",
       "USA (MN)                   2\n",
       "USA (PA)                   1\n",
       "Name: COUNTRY, dtype: int64"
      ]
     },
     "execution_count": 6,
     "metadata": {},
     "output_type": "execute_result"
    }
   ],
   "source": [
    "data['COUNTRY'].value_counts()"
   ]
  },
  {
   "cell_type": "markdown",
   "metadata": {},
   "source": [
    "### Question 1\n",
    "\n",
    "Create an output file \"filteredCountry.csv\" inside a folder named \"output\". This file should contain only those records where country contains the word USA."
   ]
  },
  {
   "cell_type": "code",
   "execution_count": 7,
   "metadata": {},
   "outputs": [],
   "source": [
    "USA = ['USA (CA)','USA (NY)','USA (WA)','USA (NJ)','USA (IL)','USA (FL)','USA (MA)',\n",
    "      'USA (CT)','USA (TX)','USA (DC)','USA (NV)','USA (RI)','USA (IN)','USA (CO)','USA (OR)',\n",
    "      'USA (TN)','USA (VA)','USA (OH)','USA (MI)','USA (MO)','USA (MN)','USA (PA)']"
   ]
  },
  {
   "cell_type": "code",
   "execution_count": 8,
   "metadata": {},
   "outputs": [],
   "source": [
    "data1= data[data.COUNTRY.isin(USA)]"
   ]
  },
  {
   "cell_type": "code",
   "execution_count": 9,
   "metadata": {
    "scrolled": true
   },
   "outputs": [
    {
     "data": {
      "text/plain": [
       "USA (CA)    1490\n",
       "USA (NY)     981\n",
       "USA (WA)      98\n",
       "USA (NJ)      88\n",
       "USA (IL)      74\n",
       "USA (FL)      71\n",
       "USA (MA)      42\n",
       "USA (CT)      38\n",
       "USA (DC)      30\n",
       "USA (TX)      30\n",
       "USA (NV)      16\n",
       "USA (RI)      13\n",
       "USA (IN)      13\n",
       "USA (CO)       8\n",
       "USA (OR)       8\n",
       "USA (TN)       7\n",
       "USA (VA)       6\n",
       "USA (MI)       5\n",
       "USA (OH)       5\n",
       "USA (MO)       4\n",
       "USA (MN)       2\n",
       "USA (PA)       1\n",
       "Name: COUNTRY, dtype: int64"
      ]
     },
     "execution_count": 9,
     "metadata": {},
     "output_type": "execute_result"
    }
   ],
   "source": [
    "data1['COUNTRY'].value_counts()"
   ]
  },
  {
   "cell_type": "code",
   "execution_count": 10,
   "metadata": {},
   "outputs": [
    {
     "data": {
      "text/html": [
       "<div>\n",
       "<style scoped>\n",
       "    .dataframe tbody tr th:only-of-type {\n",
       "        vertical-align: middle;\n",
       "    }\n",
       "\n",
       "    .dataframe tbody tr th {\n",
       "        vertical-align: top;\n",
       "    }\n",
       "\n",
       "    .dataframe thead th {\n",
       "        text-align: right;\n",
       "    }\n",
       "</style>\n",
       "<table border=\"1\" class=\"dataframe\">\n",
       "  <thead>\n",
       "    <tr style=\"text-align: right;\">\n",
       "      <th></th>\n",
       "      <th>SKU</th>\n",
       "      <th>DESCRIPTION</th>\n",
       "      <th>YEAR</th>\n",
       "      <th>CAPACITY</th>\n",
       "      <th>URL</th>\n",
       "      <th>PRICE</th>\n",
       "      <th>SELLER_INFORMATION</th>\n",
       "      <th>OFFER_DESCRIPTION</th>\n",
       "      <th>COUNTRY</th>\n",
       "    </tr>\n",
       "  </thead>\n",
       "  <tbody>\n",
       "    <tr>\n",
       "      <td>2</td>\n",
       "      <td>11331</td>\n",
       "      <td>Barbaresco,Angelo Gaja</td>\n",
       "      <td>1990</td>\n",
       "      <td>750ml</td>\n",
       "      <td>https://www.wine-searcher.com/find/barbaresco+...</td>\n",
       "      <td>329.00</td>\n",
       "      <td>The Redd Collection</td>\n",
       "      <td>1990Barbaresco,Angelo Gaja</td>\n",
       "      <td>USA (CA)</td>\n",
       "    </tr>\n",
       "    <tr>\n",
       "      <td>6</td>\n",
       "      <td>11332</td>\n",
       "      <td>Barbaresco,Angelo Gaja</td>\n",
       "      <td>2010</td>\n",
       "      <td>750ml</td>\n",
       "      <td>https://www.wine-searcher.com/find/barbaresco+...</td>\n",
       "      <td>175.00</td>\n",
       "      <td>The Redd Collection</td>\n",
       "      <td>2010Barbaresco,Angelo Gaja</td>\n",
       "      <td>USA (CA)</td>\n",
       "    </tr>\n",
       "    <tr>\n",
       "      <td>18</td>\n",
       "      <td>11333</td>\n",
       "      <td>Barbaresco,Costa Russi,Angelo Gaja</td>\n",
       "      <td>2009</td>\n",
       "      <td>750ml</td>\n",
       "      <td>https://www.wine-searcher.com/find/barbaresco+...</td>\n",
       "      <td>304.00</td>\n",
       "      <td>The Redd Collection</td>\n",
       "      <td>2009Barbaresco,Costa Russi,Angelo Gaja</td>\n",
       "      <td>USA (CA)</td>\n",
       "    </tr>\n",
       "    <tr>\n",
       "      <td>22</td>\n",
       "      <td>11333</td>\n",
       "      <td>Barbaresco,Costa Russi,Angelo Gaja</td>\n",
       "      <td>2009</td>\n",
       "      <td>750ml</td>\n",
       "      <td>https://www.wine-searcher.com/find/barbaresco+...</td>\n",
       "      <td>359.99</td>\n",
       "      <td>Lynnway Liquor Mart</td>\n",
       "      <td>Gaja Costa Russi Barbaresco20092009750ml</td>\n",
       "      <td>USA (MA)</td>\n",
       "    </tr>\n",
       "    <tr>\n",
       "      <td>23</td>\n",
       "      <td>11333</td>\n",
       "      <td>Barbaresco,Costa Russi,Angelo Gaja</td>\n",
       "      <td>2009</td>\n",
       "      <td>750ml</td>\n",
       "      <td>https://www.wine-searcher.com/find/barbaresco+...</td>\n",
       "      <td>379.00</td>\n",
       "      <td>The Old &amp; Rare Wine Company</td>\n",
       "      <td>Angelo Gaja Costa Russi Langhe2009</td>\n",
       "      <td>USA (CA)</td>\n",
       "    </tr>\n",
       "  </tbody>\n",
       "</table>\n",
       "</div>"
      ],
      "text/plain": [
       "      SKU                         DESCRIPTION  YEAR CAPACITY  \\\n",
       "2   11331              Barbaresco,Angelo Gaja  1990    750ml   \n",
       "6   11332              Barbaresco,Angelo Gaja  2010    750ml   \n",
       "18  11333  Barbaresco,Costa Russi,Angelo Gaja  2009    750ml   \n",
       "22  11333  Barbaresco,Costa Russi,Angelo Gaja  2009    750ml   \n",
       "23  11333  Barbaresco,Costa Russi,Angelo Gaja  2009    750ml   \n",
       "\n",
       "                                                  URL   PRICE  \\\n",
       "2   https://www.wine-searcher.com/find/barbaresco+...  329.00   \n",
       "6   https://www.wine-searcher.com/find/barbaresco+...  175.00   \n",
       "18  https://www.wine-searcher.com/find/barbaresco+...  304.00   \n",
       "22  https://www.wine-searcher.com/find/barbaresco+...  359.99   \n",
       "23  https://www.wine-searcher.com/find/barbaresco+...  379.00   \n",
       "\n",
       "             SELLER_INFORMATION                         OFFER_DESCRIPTION  \\\n",
       "2           The Redd Collection                1990Barbaresco,Angelo Gaja   \n",
       "6           The Redd Collection                2010Barbaresco,Angelo Gaja   \n",
       "18          The Redd Collection    2009Barbaresco,Costa Russi,Angelo Gaja   \n",
       "22          Lynnway Liquor Mart  Gaja Costa Russi Barbaresco20092009750ml   \n",
       "23  The Old & Rare Wine Company        Angelo Gaja Costa Russi Langhe2009   \n",
       "\n",
       "     COUNTRY  \n",
       "2   USA (CA)  \n",
       "6   USA (CA)  \n",
       "18  USA (CA)  \n",
       "22  USA (MA)  \n",
       "23  USA (CA)  "
      ]
     },
     "execution_count": 10,
     "metadata": {},
     "output_type": "execute_result"
    }
   ],
   "source": [
    "data1.head()"
   ]
  },
  {
   "cell_type": "markdown",
   "metadata": {},
   "source": [
    "### Exporing Result"
   ]
  },
  {
   "cell_type": "code",
   "execution_count": 11,
   "metadata": {},
   "outputs": [],
   "source": [
    "data1.to_csv(\"filteredCountry.csv\")"
   ]
  },
  {
   "cell_type": "markdown",
   "metadata": {},
   "source": [
    "### Question 2\n",
    "\n",
    "Now consider \"filteredCountry.csv\" as the input file. For each group of \"SKU\" find 2 minimum prices and store this result in \"lowestPrice.csv\" inside a folder named \"output\""
   ]
  },
  {
   "cell_type": "markdown",
   "metadata": {},
   "source": [
    "### Creating Rank variable"
   ]
  },
  {
   "cell_type": "code",
   "execution_count": 12,
   "metadata": {},
   "outputs": [
    {
     "name": "stderr",
     "output_type": "stream",
     "text": [
      "c:\\users\\falam\\appdata\\local\\programs\\python\\python36\\lib\\site-packages\\ipykernel_launcher.py:1: SettingWithCopyWarning: \n",
      "A value is trying to be set on a copy of a slice from a DataFrame.\n",
      "Try using .loc[row_indexer,col_indexer] = value instead\n",
      "\n",
      "See the caveats in the documentation: http://pandas.pydata.org/pandas-docs/stable/user_guide/indexing.html#returning-a-view-versus-a-copy\n",
      "  \"\"\"Entry point for launching an IPython kernel.\n"
     ]
    }
   ],
   "source": [
    "data1['RANK'] = data1.groupby(['SKU'])['PRICE'].transform(lambda x: list(map(lambda y: dict(map(reversed, dict(enumerate(x.unique())).items()))[y]+1,x)) )"
   ]
  },
  {
   "cell_type": "markdown",
   "metadata": {},
   "source": [
    "### Checking Head of data"
   ]
  },
  {
   "cell_type": "code",
   "execution_count": 13,
   "metadata": {
    "scrolled": true
   },
   "outputs": [
    {
     "data": {
      "text/html": [
       "<div>\n",
       "<style scoped>\n",
       "    .dataframe tbody tr th:only-of-type {\n",
       "        vertical-align: middle;\n",
       "    }\n",
       "\n",
       "    .dataframe tbody tr th {\n",
       "        vertical-align: top;\n",
       "    }\n",
       "\n",
       "    .dataframe thead th {\n",
       "        text-align: right;\n",
       "    }\n",
       "</style>\n",
       "<table border=\"1\" class=\"dataframe\">\n",
       "  <thead>\n",
       "    <tr style=\"text-align: right;\">\n",
       "      <th></th>\n",
       "      <th>SKU</th>\n",
       "      <th>DESCRIPTION</th>\n",
       "      <th>YEAR</th>\n",
       "      <th>CAPACITY</th>\n",
       "      <th>URL</th>\n",
       "      <th>PRICE</th>\n",
       "      <th>SELLER_INFORMATION</th>\n",
       "      <th>OFFER_DESCRIPTION</th>\n",
       "      <th>COUNTRY</th>\n",
       "      <th>RANK</th>\n",
       "    </tr>\n",
       "  </thead>\n",
       "  <tbody>\n",
       "    <tr>\n",
       "      <td>2</td>\n",
       "      <td>11331</td>\n",
       "      <td>Barbaresco,Angelo Gaja</td>\n",
       "      <td>1990</td>\n",
       "      <td>750ml</td>\n",
       "      <td>https://www.wine-searcher.com/find/barbaresco+...</td>\n",
       "      <td>329.00</td>\n",
       "      <td>The Redd Collection</td>\n",
       "      <td>1990Barbaresco,Angelo Gaja</td>\n",
       "      <td>USA (CA)</td>\n",
       "      <td>1</td>\n",
       "    </tr>\n",
       "    <tr>\n",
       "      <td>6</td>\n",
       "      <td>11332</td>\n",
       "      <td>Barbaresco,Angelo Gaja</td>\n",
       "      <td>2010</td>\n",
       "      <td>750ml</td>\n",
       "      <td>https://www.wine-searcher.com/find/barbaresco+...</td>\n",
       "      <td>175.00</td>\n",
       "      <td>The Redd Collection</td>\n",
       "      <td>2010Barbaresco,Angelo Gaja</td>\n",
       "      <td>USA (CA)</td>\n",
       "      <td>1</td>\n",
       "    </tr>\n",
       "    <tr>\n",
       "      <td>18</td>\n",
       "      <td>11333</td>\n",
       "      <td>Barbaresco,Costa Russi,Angelo Gaja</td>\n",
       "      <td>2009</td>\n",
       "      <td>750ml</td>\n",
       "      <td>https://www.wine-searcher.com/find/barbaresco+...</td>\n",
       "      <td>304.00</td>\n",
       "      <td>The Redd Collection</td>\n",
       "      <td>2009Barbaresco,Costa Russi,Angelo Gaja</td>\n",
       "      <td>USA (CA)</td>\n",
       "      <td>1</td>\n",
       "    </tr>\n",
       "    <tr>\n",
       "      <td>22</td>\n",
       "      <td>11333</td>\n",
       "      <td>Barbaresco,Costa Russi,Angelo Gaja</td>\n",
       "      <td>2009</td>\n",
       "      <td>750ml</td>\n",
       "      <td>https://www.wine-searcher.com/find/barbaresco+...</td>\n",
       "      <td>359.99</td>\n",
       "      <td>Lynnway Liquor Mart</td>\n",
       "      <td>Gaja Costa Russi Barbaresco20092009750ml</td>\n",
       "      <td>USA (MA)</td>\n",
       "      <td>2</td>\n",
       "    </tr>\n",
       "    <tr>\n",
       "      <td>23</td>\n",
       "      <td>11333</td>\n",
       "      <td>Barbaresco,Costa Russi,Angelo Gaja</td>\n",
       "      <td>2009</td>\n",
       "      <td>750ml</td>\n",
       "      <td>https://www.wine-searcher.com/find/barbaresco+...</td>\n",
       "      <td>379.00</td>\n",
       "      <td>The Old &amp; Rare Wine Company</td>\n",
       "      <td>Angelo Gaja Costa Russi Langhe2009</td>\n",
       "      <td>USA (CA)</td>\n",
       "      <td>3</td>\n",
       "    </tr>\n",
       "    <tr>\n",
       "      <td>24</td>\n",
       "      <td>11333</td>\n",
       "      <td>Barbaresco,Costa Russi,Angelo Gaja</td>\n",
       "      <td>2009</td>\n",
       "      <td>750ml</td>\n",
       "      <td>https://www.wine-searcher.com/find/barbaresco+...</td>\n",
       "      <td>379.98</td>\n",
       "      <td>Wine House</td>\n",
       "      <td>2009Angelo Gaja Langhe Costa Russi750ml</td>\n",
       "      <td>USA (CA)</td>\n",
       "      <td>4</td>\n",
       "    </tr>\n",
       "    <tr>\n",
       "      <td>28</td>\n",
       "      <td>11333</td>\n",
       "      <td>Barbaresco,Costa Russi,Angelo Gaja</td>\n",
       "      <td>2009</td>\n",
       "      <td>750ml</td>\n",
       "      <td>https://www.wine-searcher.com/find/barbaresco+...</td>\n",
       "      <td>799.99</td>\n",
       "      <td>Wine Anthology</td>\n",
       "      <td>2009Gaja Costa Russi</td>\n",
       "      <td>USA (NJ)</td>\n",
       "      <td>5</td>\n",
       "    </tr>\n",
       "    <tr>\n",
       "      <td>32</td>\n",
       "      <td>11333</td>\n",
       "      <td>Barbaresco,Costa Russi,Angelo Gaja</td>\n",
       "      <td>2009</td>\n",
       "      <td>750ml</td>\n",
       "      <td>https://www.wine-searcher.com/find/barbaresco+...</td>\n",
       "      <td>1849.00</td>\n",
       "      <td>Italian Wine Merchants</td>\n",
       "      <td>Gaja Costa Russi20093L</td>\n",
       "      <td>USA (NY)</td>\n",
       "      <td>6</td>\n",
       "    </tr>\n",
       "    <tr>\n",
       "      <td>36</td>\n",
       "      <td>11334</td>\n",
       "      <td>Barbaresco,Sori San Lorenzo,Angelo Gaja</td>\n",
       "      <td>2000</td>\n",
       "      <td>750ml</td>\n",
       "      <td>https://www.wine-searcher.com/find/barbaresco+...</td>\n",
       "      <td>329.00</td>\n",
       "      <td>IronGate.Wine</td>\n",
       "      <td>2000Gaja Sori San Lorenzo-750mL</td>\n",
       "      <td>USA (NY)</td>\n",
       "      <td>1</td>\n",
       "    </tr>\n",
       "    <tr>\n",
       "      <td>37</td>\n",
       "      <td>11334</td>\n",
       "      <td>Barbaresco,Sori San Lorenzo,Angelo Gaja</td>\n",
       "      <td>2000</td>\n",
       "      <td>750ml</td>\n",
       "      <td>https://www.wine-searcher.com/find/barbaresco+...</td>\n",
       "      <td>339.00</td>\n",
       "      <td>SommPicks</td>\n",
       "      <td>2000Gaja Langhe Nebbiolo Sori San Lorenzo</td>\n",
       "      <td>USA (CA)</td>\n",
       "      <td>2</td>\n",
       "    </tr>\n",
       "  </tbody>\n",
       "</table>\n",
       "</div>"
      ],
      "text/plain": [
       "      SKU                              DESCRIPTION  YEAR CAPACITY  \\\n",
       "2   11331                   Barbaresco,Angelo Gaja  1990    750ml   \n",
       "6   11332                   Barbaresco,Angelo Gaja  2010    750ml   \n",
       "18  11333       Barbaresco,Costa Russi,Angelo Gaja  2009    750ml   \n",
       "22  11333       Barbaresco,Costa Russi,Angelo Gaja  2009    750ml   \n",
       "23  11333       Barbaresco,Costa Russi,Angelo Gaja  2009    750ml   \n",
       "24  11333       Barbaresco,Costa Russi,Angelo Gaja  2009    750ml   \n",
       "28  11333       Barbaresco,Costa Russi,Angelo Gaja  2009    750ml   \n",
       "32  11333       Barbaresco,Costa Russi,Angelo Gaja  2009    750ml   \n",
       "36  11334  Barbaresco,Sori San Lorenzo,Angelo Gaja  2000    750ml   \n",
       "37  11334  Barbaresco,Sori San Lorenzo,Angelo Gaja  2000    750ml   \n",
       "\n",
       "                                                  URL    PRICE  \\\n",
       "2   https://www.wine-searcher.com/find/barbaresco+...   329.00   \n",
       "6   https://www.wine-searcher.com/find/barbaresco+...   175.00   \n",
       "18  https://www.wine-searcher.com/find/barbaresco+...   304.00   \n",
       "22  https://www.wine-searcher.com/find/barbaresco+...   359.99   \n",
       "23  https://www.wine-searcher.com/find/barbaresco+...   379.00   \n",
       "24  https://www.wine-searcher.com/find/barbaresco+...   379.98   \n",
       "28  https://www.wine-searcher.com/find/barbaresco+...   799.99   \n",
       "32  https://www.wine-searcher.com/find/barbaresco+...  1849.00   \n",
       "36  https://www.wine-searcher.com/find/barbaresco+...   329.00   \n",
       "37  https://www.wine-searcher.com/find/barbaresco+...   339.00   \n",
       "\n",
       "             SELLER_INFORMATION                          OFFER_DESCRIPTION  \\\n",
       "2           The Redd Collection                 1990Barbaresco,Angelo Gaja   \n",
       "6           The Redd Collection                 2010Barbaresco,Angelo Gaja   \n",
       "18          The Redd Collection     2009Barbaresco,Costa Russi,Angelo Gaja   \n",
       "22          Lynnway Liquor Mart   Gaja Costa Russi Barbaresco20092009750ml   \n",
       "23  The Old & Rare Wine Company         Angelo Gaja Costa Russi Langhe2009   \n",
       "24                   Wine House    2009Angelo Gaja Langhe Costa Russi750ml   \n",
       "28               Wine Anthology                       2009Gaja Costa Russi   \n",
       "32       Italian Wine Merchants                     Gaja Costa Russi20093L   \n",
       "36                IronGate.Wine            2000Gaja Sori San Lorenzo-750mL   \n",
       "37                    SommPicks  2000Gaja Langhe Nebbiolo Sori San Lorenzo   \n",
       "\n",
       "     COUNTRY  RANK  \n",
       "2   USA (CA)     1  \n",
       "6   USA (CA)     1  \n",
       "18  USA (CA)     1  \n",
       "22  USA (MA)     2  \n",
       "23  USA (CA)     3  \n",
       "24  USA (CA)     4  \n",
       "28  USA (NJ)     5  \n",
       "32  USA (NY)     6  \n",
       "36  USA (NY)     1  \n",
       "37  USA (CA)     2  "
      ]
     },
     "execution_count": 13,
     "metadata": {},
     "output_type": "execute_result"
    }
   ],
   "source": [
    "data1.head(10)"
   ]
  },
  {
   "cell_type": "markdown",
   "metadata": {},
   "source": [
    "### Filtering Record "
   ]
  },
  {
   "cell_type": "code",
   "execution_count": 14,
   "metadata": {},
   "outputs": [
    {
     "data": {
      "text/plain": [
       "(599, 10)"
      ]
     },
     "execution_count": 14,
     "metadata": {},
     "output_type": "execute_result"
    }
   ],
   "source": [
    "a = data1[data1['RANK']<=2]\n",
    "a.shape"
   ]
  },
  {
   "cell_type": "markdown",
   "metadata": {},
   "source": [
    "### Viewing Head of Data"
   ]
  },
  {
   "cell_type": "code",
   "execution_count": 15,
   "metadata": {
    "scrolled": true
   },
   "outputs": [
    {
     "data": {
      "text/html": [
       "<div>\n",
       "<style scoped>\n",
       "    .dataframe tbody tr th:only-of-type {\n",
       "        vertical-align: middle;\n",
       "    }\n",
       "\n",
       "    .dataframe tbody tr th {\n",
       "        vertical-align: top;\n",
       "    }\n",
       "\n",
       "    .dataframe thead th {\n",
       "        text-align: right;\n",
       "    }\n",
       "</style>\n",
       "<table border=\"1\" class=\"dataframe\">\n",
       "  <thead>\n",
       "    <tr style=\"text-align: right;\">\n",
       "      <th></th>\n",
       "      <th>SKU</th>\n",
       "      <th>DESCRIPTION</th>\n",
       "      <th>YEAR</th>\n",
       "      <th>CAPACITY</th>\n",
       "      <th>URL</th>\n",
       "      <th>PRICE</th>\n",
       "      <th>SELLER_INFORMATION</th>\n",
       "      <th>OFFER_DESCRIPTION</th>\n",
       "      <th>COUNTRY</th>\n",
       "      <th>RANK</th>\n",
       "    </tr>\n",
       "  </thead>\n",
       "  <tbody>\n",
       "    <tr>\n",
       "      <td>2</td>\n",
       "      <td>11331</td>\n",
       "      <td>Barbaresco,Angelo Gaja</td>\n",
       "      <td>1990</td>\n",
       "      <td>750ml</td>\n",
       "      <td>https://www.wine-searcher.com/find/barbaresco+...</td>\n",
       "      <td>329.00</td>\n",
       "      <td>The Redd Collection</td>\n",
       "      <td>1990Barbaresco,Angelo Gaja</td>\n",
       "      <td>USA (CA)</td>\n",
       "      <td>1</td>\n",
       "    </tr>\n",
       "    <tr>\n",
       "      <td>6</td>\n",
       "      <td>11332</td>\n",
       "      <td>Barbaresco,Angelo Gaja</td>\n",
       "      <td>2010</td>\n",
       "      <td>750ml</td>\n",
       "      <td>https://www.wine-searcher.com/find/barbaresco+...</td>\n",
       "      <td>175.00</td>\n",
       "      <td>The Redd Collection</td>\n",
       "      <td>2010Barbaresco,Angelo Gaja</td>\n",
       "      <td>USA (CA)</td>\n",
       "      <td>1</td>\n",
       "    </tr>\n",
       "    <tr>\n",
       "      <td>18</td>\n",
       "      <td>11333</td>\n",
       "      <td>Barbaresco,Costa Russi,Angelo Gaja</td>\n",
       "      <td>2009</td>\n",
       "      <td>750ml</td>\n",
       "      <td>https://www.wine-searcher.com/find/barbaresco+...</td>\n",
       "      <td>304.00</td>\n",
       "      <td>The Redd Collection</td>\n",
       "      <td>2009Barbaresco,Costa Russi,Angelo Gaja</td>\n",
       "      <td>USA (CA)</td>\n",
       "      <td>1</td>\n",
       "    </tr>\n",
       "    <tr>\n",
       "      <td>22</td>\n",
       "      <td>11333</td>\n",
       "      <td>Barbaresco,Costa Russi,Angelo Gaja</td>\n",
       "      <td>2009</td>\n",
       "      <td>750ml</td>\n",
       "      <td>https://www.wine-searcher.com/find/barbaresco+...</td>\n",
       "      <td>359.99</td>\n",
       "      <td>Lynnway Liquor Mart</td>\n",
       "      <td>Gaja Costa Russi Barbaresco20092009750ml</td>\n",
       "      <td>USA (MA)</td>\n",
       "      <td>2</td>\n",
       "    </tr>\n",
       "    <tr>\n",
       "      <td>36</td>\n",
       "      <td>11334</td>\n",
       "      <td>Barbaresco,Sori San Lorenzo,Angelo Gaja</td>\n",
       "      <td>2000</td>\n",
       "      <td>750ml</td>\n",
       "      <td>https://www.wine-searcher.com/find/barbaresco+...</td>\n",
       "      <td>329.00</td>\n",
       "      <td>IronGate.Wine</td>\n",
       "      <td>2000Gaja Sori San Lorenzo-750mL</td>\n",
       "      <td>USA (NY)</td>\n",
       "      <td>1</td>\n",
       "    </tr>\n",
       "    <tr>\n",
       "      <td>37</td>\n",
       "      <td>11334</td>\n",
       "      <td>Barbaresco,Sori San Lorenzo,Angelo Gaja</td>\n",
       "      <td>2000</td>\n",
       "      <td>750ml</td>\n",
       "      <td>https://www.wine-searcher.com/find/barbaresco+...</td>\n",
       "      <td>339.00</td>\n",
       "      <td>SommPicks</td>\n",
       "      <td>2000Gaja Langhe Nebbiolo Sori San Lorenzo</td>\n",
       "      <td>USA (CA)</td>\n",
       "      <td>2</td>\n",
       "    </tr>\n",
       "    <tr>\n",
       "      <td>52</td>\n",
       "      <td>11335</td>\n",
       "      <td>Barbaresco,Sori Tildin,Angelo Gaja</td>\n",
       "      <td>2009</td>\n",
       "      <td>750ml</td>\n",
       "      <td>https://www.wine-searcher.com/find/barbaresco+...</td>\n",
       "      <td>304.00</td>\n",
       "      <td>The Redd Collection</td>\n",
       "      <td>2009Barbaresco,Sori Tildin,Angelo Gaja</td>\n",
       "      <td>USA (CA)</td>\n",
       "      <td>1</td>\n",
       "    </tr>\n",
       "    <tr>\n",
       "      <td>53</td>\n",
       "      <td>11335</td>\n",
       "      <td>Barbaresco,Sori Tildin,Angelo Gaja</td>\n",
       "      <td>2009</td>\n",
       "      <td>750ml</td>\n",
       "      <td>https://www.wine-searcher.com/find/barbaresco+...</td>\n",
       "      <td>315.00</td>\n",
       "      <td>Westgarth Wines</td>\n",
       "      <td>2009Gaja,Sori Tildin</td>\n",
       "      <td>USA (CA)</td>\n",
       "      <td>2</td>\n",
       "    </tr>\n",
       "    <tr>\n",
       "      <td>68</td>\n",
       "      <td>11336</td>\n",
       "      <td>Barbaresco,Sori Tildin,Angelo Gaja</td>\n",
       "      <td>2010</td>\n",
       "      <td>1.5L</td>\n",
       "      <td>https://www.wine-searcher.com/find/barbaresco+...</td>\n",
       "      <td>334.00</td>\n",
       "      <td>Yankee Spirits</td>\n",
       "      <td>GAJASORITILDINLANGHEBARBARESCO2010</td>\n",
       "      <td>USA (MA)</td>\n",
       "      <td>1</td>\n",
       "    </tr>\n",
       "    <tr>\n",
       "      <td>69</td>\n",
       "      <td>11336</td>\n",
       "      <td>Barbaresco,Sori Tildin,Angelo Gaja</td>\n",
       "      <td>2010</td>\n",
       "      <td>1.5L</td>\n",
       "      <td>https://www.wine-searcher.com/find/barbaresco+...</td>\n",
       "      <td>364.99</td>\n",
       "      <td>Stirling Fine Wines</td>\n",
       "      <td>Gaja Sori Tildin2010,Piedmont,Langhe</td>\n",
       "      <td>USA (NJ)</td>\n",
       "      <td>2</td>\n",
       "    </tr>\n",
       "  </tbody>\n",
       "</table>\n",
       "</div>"
      ],
      "text/plain": [
       "      SKU                              DESCRIPTION  YEAR CAPACITY  \\\n",
       "2   11331                   Barbaresco,Angelo Gaja  1990    750ml   \n",
       "6   11332                   Barbaresco,Angelo Gaja  2010    750ml   \n",
       "18  11333       Barbaresco,Costa Russi,Angelo Gaja  2009    750ml   \n",
       "22  11333       Barbaresco,Costa Russi,Angelo Gaja  2009    750ml   \n",
       "36  11334  Barbaresco,Sori San Lorenzo,Angelo Gaja  2000    750ml   \n",
       "37  11334  Barbaresco,Sori San Lorenzo,Angelo Gaja  2000    750ml   \n",
       "52  11335       Barbaresco,Sori Tildin,Angelo Gaja  2009    750ml   \n",
       "53  11335       Barbaresco,Sori Tildin,Angelo Gaja  2009    750ml   \n",
       "68  11336       Barbaresco,Sori Tildin,Angelo Gaja  2010     1.5L   \n",
       "69  11336       Barbaresco,Sori Tildin,Angelo Gaja  2010     1.5L   \n",
       "\n",
       "                                                  URL   PRICE  \\\n",
       "2   https://www.wine-searcher.com/find/barbaresco+...  329.00   \n",
       "6   https://www.wine-searcher.com/find/barbaresco+...  175.00   \n",
       "18  https://www.wine-searcher.com/find/barbaresco+...  304.00   \n",
       "22  https://www.wine-searcher.com/find/barbaresco+...  359.99   \n",
       "36  https://www.wine-searcher.com/find/barbaresco+...  329.00   \n",
       "37  https://www.wine-searcher.com/find/barbaresco+...  339.00   \n",
       "52  https://www.wine-searcher.com/find/barbaresco+...  304.00   \n",
       "53  https://www.wine-searcher.com/find/barbaresco+...  315.00   \n",
       "68  https://www.wine-searcher.com/find/barbaresco+...  334.00   \n",
       "69  https://www.wine-searcher.com/find/barbaresco+...  364.99   \n",
       "\n",
       "     SELLER_INFORMATION                          OFFER_DESCRIPTION   COUNTRY  \\\n",
       "2   The Redd Collection                 1990Barbaresco,Angelo Gaja  USA (CA)   \n",
       "6   The Redd Collection                 2010Barbaresco,Angelo Gaja  USA (CA)   \n",
       "18  The Redd Collection     2009Barbaresco,Costa Russi,Angelo Gaja  USA (CA)   \n",
       "22  Lynnway Liquor Mart   Gaja Costa Russi Barbaresco20092009750ml  USA (MA)   \n",
       "36        IronGate.Wine            2000Gaja Sori San Lorenzo-750mL  USA (NY)   \n",
       "37            SommPicks  2000Gaja Langhe Nebbiolo Sori San Lorenzo  USA (CA)   \n",
       "52  The Redd Collection     2009Barbaresco,Sori Tildin,Angelo Gaja  USA (CA)   \n",
       "53      Westgarth Wines                       2009Gaja,Sori Tildin  USA (CA)   \n",
       "68       Yankee Spirits         GAJASORITILDINLANGHEBARBARESCO2010  USA (MA)   \n",
       "69  Stirling Fine Wines       Gaja Sori Tildin2010,Piedmont,Langhe  USA (NJ)   \n",
       "\n",
       "    RANK  \n",
       "2      1  \n",
       "6      1  \n",
       "18     1  \n",
       "22     2  \n",
       "36     1  \n",
       "37     2  \n",
       "52     1  \n",
       "53     2  \n",
       "68     1  \n",
       "69     2  "
      ]
     },
     "execution_count": 15,
     "metadata": {},
     "output_type": "execute_result"
    }
   ],
   "source": [
    "a.head(10)"
   ]
  },
  {
   "cell_type": "markdown",
   "metadata": {},
   "source": [
    "### Droping duplicates values"
   ]
  },
  {
   "cell_type": "code",
   "execution_count": 16,
   "metadata": {},
   "outputs": [],
   "source": [
    "uniques = a[['SKU']].drop_duplicates(keep=False)"
   ]
  },
  {
   "cell_type": "markdown",
   "metadata": {},
   "source": [
    "### Filtering duplicates values "
   ]
  },
  {
   "cell_type": "code",
   "execution_count": 17,
   "metadata": {},
   "outputs": [
    {
     "data": {
      "text/plain": [
       "(592, 10)"
      ]
     },
     "execution_count": 17,
     "metadata": {},
     "output_type": "execute_result"
    }
   ],
   "source": [
    "duplicates = a[~a.index.isin(uniques.index)]\n",
    "duplicates.shape"
   ]
  },
  {
   "cell_type": "markdown",
   "metadata": {},
   "source": [
    "### Viewing Head of Data"
   ]
  },
  {
   "cell_type": "code",
   "execution_count": 18,
   "metadata": {
    "scrolled": true
   },
   "outputs": [
    {
     "data": {
      "text/html": [
       "<div>\n",
       "<style scoped>\n",
       "    .dataframe tbody tr th:only-of-type {\n",
       "        vertical-align: middle;\n",
       "    }\n",
       "\n",
       "    .dataframe tbody tr th {\n",
       "        vertical-align: top;\n",
       "    }\n",
       "\n",
       "    .dataframe thead th {\n",
       "        text-align: right;\n",
       "    }\n",
       "</style>\n",
       "<table border=\"1\" class=\"dataframe\">\n",
       "  <thead>\n",
       "    <tr style=\"text-align: right;\">\n",
       "      <th></th>\n",
       "      <th>SKU</th>\n",
       "      <th>DESCRIPTION</th>\n",
       "      <th>YEAR</th>\n",
       "      <th>CAPACITY</th>\n",
       "      <th>URL</th>\n",
       "      <th>PRICE</th>\n",
       "      <th>SELLER_INFORMATION</th>\n",
       "      <th>OFFER_DESCRIPTION</th>\n",
       "      <th>COUNTRY</th>\n",
       "      <th>RANK</th>\n",
       "    </tr>\n",
       "  </thead>\n",
       "  <tbody>\n",
       "    <tr>\n",
       "      <td>18</td>\n",
       "      <td>11333</td>\n",
       "      <td>Barbaresco,Costa Russi,Angelo Gaja</td>\n",
       "      <td>2009</td>\n",
       "      <td>750ml</td>\n",
       "      <td>https://www.wine-searcher.com/find/barbaresco+...</td>\n",
       "      <td>304.00</td>\n",
       "      <td>The Redd Collection</td>\n",
       "      <td>2009Barbaresco,Costa Russi,Angelo Gaja</td>\n",
       "      <td>USA (CA)</td>\n",
       "      <td>1</td>\n",
       "    </tr>\n",
       "    <tr>\n",
       "      <td>22</td>\n",
       "      <td>11333</td>\n",
       "      <td>Barbaresco,Costa Russi,Angelo Gaja</td>\n",
       "      <td>2009</td>\n",
       "      <td>750ml</td>\n",
       "      <td>https://www.wine-searcher.com/find/barbaresco+...</td>\n",
       "      <td>359.99</td>\n",
       "      <td>Lynnway Liquor Mart</td>\n",
       "      <td>Gaja Costa Russi Barbaresco20092009750ml</td>\n",
       "      <td>USA (MA)</td>\n",
       "      <td>2</td>\n",
       "    </tr>\n",
       "    <tr>\n",
       "      <td>36</td>\n",
       "      <td>11334</td>\n",
       "      <td>Barbaresco,Sori San Lorenzo,Angelo Gaja</td>\n",
       "      <td>2000</td>\n",
       "      <td>750ml</td>\n",
       "      <td>https://www.wine-searcher.com/find/barbaresco+...</td>\n",
       "      <td>329.00</td>\n",
       "      <td>IronGate.Wine</td>\n",
       "      <td>2000Gaja Sori San Lorenzo-750mL</td>\n",
       "      <td>USA (NY)</td>\n",
       "      <td>1</td>\n",
       "    </tr>\n",
       "    <tr>\n",
       "      <td>37</td>\n",
       "      <td>11334</td>\n",
       "      <td>Barbaresco,Sori San Lorenzo,Angelo Gaja</td>\n",
       "      <td>2000</td>\n",
       "      <td>750ml</td>\n",
       "      <td>https://www.wine-searcher.com/find/barbaresco+...</td>\n",
       "      <td>339.00</td>\n",
       "      <td>SommPicks</td>\n",
       "      <td>2000Gaja Langhe Nebbiolo Sori San Lorenzo</td>\n",
       "      <td>USA (CA)</td>\n",
       "      <td>2</td>\n",
       "    </tr>\n",
       "    <tr>\n",
       "      <td>52</td>\n",
       "      <td>11335</td>\n",
       "      <td>Barbaresco,Sori Tildin,Angelo Gaja</td>\n",
       "      <td>2009</td>\n",
       "      <td>750ml</td>\n",
       "      <td>https://www.wine-searcher.com/find/barbaresco+...</td>\n",
       "      <td>304.00</td>\n",
       "      <td>The Redd Collection</td>\n",
       "      <td>2009Barbaresco,Sori Tildin,Angelo Gaja</td>\n",
       "      <td>USA (CA)</td>\n",
       "      <td>1</td>\n",
       "    </tr>\n",
       "  </tbody>\n",
       "</table>\n",
       "</div>"
      ],
      "text/plain": [
       "      SKU                              DESCRIPTION  YEAR CAPACITY  \\\n",
       "18  11333       Barbaresco,Costa Russi,Angelo Gaja  2009    750ml   \n",
       "22  11333       Barbaresco,Costa Russi,Angelo Gaja  2009    750ml   \n",
       "36  11334  Barbaresco,Sori San Lorenzo,Angelo Gaja  2000    750ml   \n",
       "37  11334  Barbaresco,Sori San Lorenzo,Angelo Gaja  2000    750ml   \n",
       "52  11335       Barbaresco,Sori Tildin,Angelo Gaja  2009    750ml   \n",
       "\n",
       "                                                  URL   PRICE  \\\n",
       "18  https://www.wine-searcher.com/find/barbaresco+...  304.00   \n",
       "22  https://www.wine-searcher.com/find/barbaresco+...  359.99   \n",
       "36  https://www.wine-searcher.com/find/barbaresco+...  329.00   \n",
       "37  https://www.wine-searcher.com/find/barbaresco+...  339.00   \n",
       "52  https://www.wine-searcher.com/find/barbaresco+...  304.00   \n",
       "\n",
       "     SELLER_INFORMATION                          OFFER_DESCRIPTION   COUNTRY  \\\n",
       "18  The Redd Collection     2009Barbaresco,Costa Russi,Angelo Gaja  USA (CA)   \n",
       "22  Lynnway Liquor Mart   Gaja Costa Russi Barbaresco20092009750ml  USA (MA)   \n",
       "36        IronGate.Wine            2000Gaja Sori San Lorenzo-750mL  USA (NY)   \n",
       "37            SommPicks  2000Gaja Langhe Nebbiolo Sori San Lorenzo  USA (CA)   \n",
       "52  The Redd Collection     2009Barbaresco,Sori Tildin,Angelo Gaja  USA (CA)   \n",
       "\n",
       "    RANK  \n",
       "18     1  \n",
       "22     2  \n",
       "36     1  \n",
       "37     2  \n",
       "52     1  "
      ]
     },
     "execution_count": 18,
     "metadata": {},
     "output_type": "execute_result"
    }
   ],
   "source": [
    "duplicates.head()"
   ]
  },
  {
   "cell_type": "markdown",
   "metadata": {},
   "source": [
    "### Filtering data "
   ]
  },
  {
   "cell_type": "code",
   "execution_count": 19,
   "metadata": {},
   "outputs": [
    {
     "data": {
      "text/plain": [
       "((292, 10), (300, 10))"
      ]
     },
     "execution_count": 19,
     "metadata": {},
     "output_type": "execute_result"
    }
   ],
   "source": [
    "c = duplicates[duplicates['RANK']==1]\n",
    "d = duplicates[duplicates['RANK']==2]\n",
    "c.shape,d.shape"
   ]
  },
  {
   "cell_type": "markdown",
   "metadata": {},
   "source": [
    "### Filtering columns"
   ]
  },
  {
   "cell_type": "code",
   "execution_count": 20,
   "metadata": {},
   "outputs": [],
   "source": [
    "c = c[['SKU','PRICE']]\n",
    "d = d[['SKU','PRICE']]"
   ]
  },
  {
   "cell_type": "markdown",
   "metadata": {},
   "source": [
    "### Renaming columns name"
   ]
  },
  {
   "cell_type": "code",
   "execution_count": 21,
   "metadata": {},
   "outputs": [],
   "source": [
    "c = c.rename(columns = {'PRICE':'FIRST_MINIMUM_PRICE'})\n",
    "d = d.rename(columns = {'PRICE':'SECOND_MINIMUM_PRICE'})"
   ]
  },
  {
   "cell_type": "markdown",
   "metadata": {},
   "source": [
    "### Reseting Index"
   ]
  },
  {
   "cell_type": "code",
   "execution_count": 22,
   "metadata": {},
   "outputs": [],
   "source": [
    "c.reset_index(inplace = True, drop = True)\n",
    "d.reset_index(inplace = True, drop = True)\n"
   ]
  },
  {
   "cell_type": "markdown",
   "metadata": {},
   "source": [
    "### Merging Data "
   ]
  },
  {
   "cell_type": "code",
   "execution_count": 23,
   "metadata": {},
   "outputs": [
    {
     "data": {
      "text/html": [
       "<div>\n",
       "<style scoped>\n",
       "    .dataframe tbody tr th:only-of-type {\n",
       "        vertical-align: middle;\n",
       "    }\n",
       "\n",
       "    .dataframe tbody tr th {\n",
       "        vertical-align: top;\n",
       "    }\n",
       "\n",
       "    .dataframe thead th {\n",
       "        text-align: right;\n",
       "    }\n",
       "</style>\n",
       "<table border=\"1\" class=\"dataframe\">\n",
       "  <thead>\n",
       "    <tr style=\"text-align: right;\">\n",
       "      <th></th>\n",
       "      <th>SKU</th>\n",
       "      <th>FIRST_MINIMUM_PRICE</th>\n",
       "      <th>SECOND_MINIMUM_PRICE</th>\n",
       "    </tr>\n",
       "  </thead>\n",
       "  <tbody>\n",
       "    <tr>\n",
       "      <td>0</td>\n",
       "      <td>11333</td>\n",
       "      <td>304.00</td>\n",
       "      <td>359.99</td>\n",
       "    </tr>\n",
       "    <tr>\n",
       "      <td>1</td>\n",
       "      <td>11334</td>\n",
       "      <td>329.00</td>\n",
       "      <td>339.00</td>\n",
       "    </tr>\n",
       "    <tr>\n",
       "      <td>2</td>\n",
       "      <td>11335</td>\n",
       "      <td>304.00</td>\n",
       "      <td>315.00</td>\n",
       "    </tr>\n",
       "    <tr>\n",
       "      <td>3</td>\n",
       "      <td>11336</td>\n",
       "      <td>334.00</td>\n",
       "      <td>364.99</td>\n",
       "    </tr>\n",
       "    <tr>\n",
       "      <td>4</td>\n",
       "      <td>11337</td>\n",
       "      <td>334.00</td>\n",
       "      <td>364.99</td>\n",
       "    </tr>\n",
       "  </tbody>\n",
       "</table>\n",
       "</div>"
      ],
      "text/plain": [
       "     SKU FIRST_MINIMUM_PRICE SECOND_MINIMUM_PRICE\n",
       "0  11333              304.00               359.99\n",
       "1  11334              329.00               339.00\n",
       "2  11335              304.00               315.00\n",
       "3  11336              334.00               364.99\n",
       "4  11337              334.00               364.99"
      ]
     },
     "execution_count": 23,
     "metadata": {},
     "output_type": "execute_result"
    }
   ],
   "source": [
    "e= pd.merge(c,d,how = 'left', on = 'SKU')\n",
    "e.head()"
   ]
  },
  {
   "cell_type": "markdown",
   "metadata": {},
   "source": [
    "### Exporting Result"
   ]
  },
  {
   "cell_type": "code",
   "execution_count": 24,
   "metadata": {},
   "outputs": [],
   "source": [
    "e.to_csv(\"lowestPrice.csv\")"
   ]
  }
 ],
 "metadata": {
  "kernelspec": {
   "display_name": "Python 3",
   "language": "python",
   "name": "python3"
  },
  "language_info": {
   "codemirror_mode": {
    "name": "ipython",
    "version": 3
   },
   "file_extension": ".py",
   "mimetype": "text/x-python",
   "name": "python",
   "nbconvert_exporter": "python",
   "pygments_lexer": "ipython3",
   "version": "3.6.6"
  }
 },
 "nbformat": 4,
 "nbformat_minor": 2
}
